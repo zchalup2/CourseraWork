{
 "cells": [
  {
   "cell_type": "markdown",
   "id": "57ae2b6f-aa7f-42bf-8275-bc7c3c65e31d",
   "metadata": {
    "tags": []
   },
   "source": [
    "Final Peer Review Assignment\n"
   ]
  },
  {
   "cell_type": "markdown",
   "id": "b1782ab4-7798-4413-b6c6-3c207c931c88",
   "metadata": {
    "tags": []
   },
   "source": [
    "This is an introduction to my final exam which is written in a markdown cell"
   ]
  },
  {
   "cell_type": "markdown",
   "id": "3cb7066b-3291-4ab9-9bb8-76c02384c837",
   "metadata": {
    "tags": []
   },
   "source": [
    "Some Data Science Languages are: \n",
    "- R\n",
    "- Java\n",
    "- Python\n",
    "- SQL"
   ]
  },
  {
   "cell_type": "markdown",
   "id": "d5c72401-c7ae-4e15-ae27-2d0bcdad0347",
   "metadata": {},
   "source": [
    "Some Data Science Libraries are: \n",
    "- Scikit-Learn\n",
    "- Pandas\n",
    "- Plotly\n",
    "- dplyr\n",
    "- caret"
   ]
  },
  {
   "cell_type": "markdown",
   "id": "e69aa900-efce-4b25-9915-2c04f5762646",
   "metadata": {},
   "source": [
    "Some Data Science Tools are: \n",
    "- Jupyter\n",
    "- VSCode\n",
    "- RStudio"
   ]
  },
  {
   "cell_type": "markdown",
   "id": "203e47f5-9089-4950-b980-8612c0f14118",
   "metadata": {},
   "source": [
    "Here is are examples of arithmetic expressions:\n",
    "    2 + 2 = 4\n",
    "    10 * 10 = 100"
   ]
  },
  {
   "cell_type": "code",
   "execution_count": 7,
   "id": "61b6f145-5c7e-4cd4-a4b2-6bb8291cb5c3",
   "metadata": {
    "tags": []
   },
   "outputs": [
    {
     "data": {
      "text/plain": [
       "104"
      ]
     },
     "execution_count": 7,
     "metadata": {},
     "output_type": "execute_result"
    }
   ],
   "source": [
    "    (2*2)+(10*10)"
   ]
  },
  {
   "cell_type": "code",
   "execution_count": 25,
   "id": "da9e5f43-145b-4f9a-9c99-52f2de2d2a5f",
   "metadata": {
    "tags": []
   },
   "outputs": [
    {
     "name": "stdout",
     "output_type": "stream",
     "text": [
      "120 minutes is equal to 2.0 hours \n"
     ]
    }
   ],
   "source": [
    "# x = number of minutes\n",
    "x = 120\n",
    "print(f\"{x}\" + \" minutes is equal to \" + f\"{(x/60)}\" + \" hours \") "
   ]
  },
  {
   "cell_type": "markdown",
   "id": "5c359e86-cd23-4e82-8552-cdc237560162",
   "metadata": {},
   "source": [
    "Objective:\n",
    "- Create Markdown Cell with Title\n",
    "- Create Markdown Cell with Intro\n",
    "- Create Markdwon Cell with Data Science Languages\n",
    "- Create Markdown Cell with Data Science Libraries\n",
    "- Create Markdown Cell with Data Science Tools\n",
    "- Create Markdown Cell to show arithemtic expressions\n",
    "- Create Code Cell to multiply and add\n",
    "- Create code cell to covert minutes to hours"
   ]
  },
  {
   "cell_type": "markdown",
   "id": "82dde45c-a35a-4ba0-af20-983a3faed8de",
   "metadata": {},
   "source": [
    "Author: ZC"
   ]
  },
  {
   "cell_type": "code",
   "execution_count": null,
   "id": "81ef0170-6a1a-4799-8577-dd07c2e93b4a",
   "metadata": {},
   "outputs": [],
   "source": []
  },
  {
   "cell_type": "code",
   "execution_count": null,
   "id": "dfe3d560-a156-44c6-8c57-79cf34287ebd",
   "metadata": {},
   "outputs": [],
   "source": []
  },
  {
   "cell_type": "code",
   "execution_count": null,
   "id": "0c37f80c-ae70-4e09-a28d-f135fba9ec71",
   "metadata": {},
   "outputs": [],
   "source": []
  }
 ],
 "metadata": {
  "kernelspec": {
   "display_name": "Python",
   "language": "python",
   "name": "conda-env-python-py"
  },
  "language_info": {
   "codemirror_mode": {
    "name": "ipython",
    "version": 3
   },
   "file_extension": ".py",
   "mimetype": "text/x-python",
   "name": "python",
   "nbconvert_exporter": "python",
   "pygments_lexer": "ipython3",
   "version": "3.7.12"
  }
 },
 "nbformat": 4,
 "nbformat_minor": 5
}
